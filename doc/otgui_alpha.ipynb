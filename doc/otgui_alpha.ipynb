{
 "cells": [
  {
   "cell_type": "markdown",
   "metadata": {
    "slideshow": {
     "slide_type": "slide"
    }
   },
   "source": [
    "<img src=\"http://openturns.github.io/_static/logo-openturns-wo-bg.png\" alt=\"OpenTURNS\" width=\"20%\" align=\"right\">\n",
    "\n",
    "# OTGui alpha\n",
    "\n",
    "**15 september 2015**\n",
    "\n",
    "[Aurélie Ladier](mailto:ladier@phimeca.com)\n",
    "\n",
    "[Julien Schueller](mailto:schueller@phimeca.com)\n",
    "\n",
    "*Phimeca Engineering SA*"
   ]
  },
  {
   "cell_type": "markdown",
   "metadata": {
    "slideshow": {
     "slide_type": "slide"
    }
   },
   "source": [
    "# Sphinx documentation\n",
    "\n",
    "- User (and developer documentation)\n",
    "- Show doc/html/index.html\n",
    "- NEW: code inclusion, bibliography\n"
   ]
  },
  {
   "cell_type": "markdown",
   "metadata": {
    "slideshow": {
     "slide_type": "slide"
    }
   },
   "source": [
    "# Test-cases\n",
    "\n",
    "- Using openturns.testing\n",
    "- Test dump of Study\n",
    "- Show doc/html/developer_manual/validation/validation.html"
   ]
  },
  {
   "cell_type": "markdown",
   "metadata": {
    "slideshow": {
     "slide_type": "slide"
    }
   },
   "source": [
    "# Python console\n",
    "\n",
    "- QConsole (http://sourceforge.net/projects/qconsole/)\n",
    "- Cherry-pick Console & QPyConsole classes\n",
    "- Show console"
   ]
  },
  {
   "cell_type": "markdown",
   "metadata": {
    "slideshow": {
     "slide_type": "slide"
    }
   },
   "source": [
    "# Architecture\n",
    "\n",
    "- Show doc/html/developer_manual/architecture/architecture.html\n"
   ]
  },
  {
   "cell_type": "markdown",
   "metadata": {
    "slideshow": {
     "slide_type": "slide"
    }
   },
   "source": [
    "# Scriptable GUI\n",
    "\n",
    "- Custom STL-based signals\n",
    "- Observer pattern\n",
    "- A signal for each item altered\n"
   ]
  },
  {
   "cell_type": "markdown",
   "metadata": {
    "slideshow": {
     "slide_type": "subslide"
    }
   },
   "source": [
    "# Script example\n",
    "\n"
   ]
  }
 ],
 "metadata": {
  "celltoolbar": "Slideshow",
  "kernelspec": {
   "display_name": "Python 2",
   "language": "python",
   "name": "python2"
  },
  "language_info": {
   "codemirror_mode": {
    "name": "ipython",
    "version": 2
   },
   "file_extension": ".py",
   "mimetype": "text/x-python",
   "name": "python",
   "nbconvert_exporter": "python",
   "pygments_lexer": "ipython2",
   "version": "2.7.3"
  }
 },
 "nbformat": 4,
 "nbformat_minor": 0
}
